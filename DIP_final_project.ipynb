{
  "nbformat": 4,
  "nbformat_minor": 0,
  "metadata": {
    "colab": {
      "name": "DIP-final-project.ipynb",
      "provenance": []
    },
    "kernelspec": {
      "name": "python3",
      "display_name": "Python 3"
    },
    "language_info": {
      "name": "python"
    },
    "accelerator": "GPU",
    "gpuClass": "standard"
  },
  "cells": [
    {
      "cell_type": "code",
      "source": [
        "import pandas as pd\n",
        "import numpy as np\n",
        "import os\n",
        "import matplotlib.pyplot as plt\n",
        "%matplotlib inline\n",
        "from skimage.io import imread, imshow\n",
        "from skimage.transform import resize\n",
        "import cv2\n",
        "from sklearn.utils import shuffle\n",
        "from keras.applications.vgg16 import VGG16\n",
        "\n",
        "import warnings\n",
        "warnings.filterwarnings('ignore')"
      ],
      "metadata": {
        "id": "CYN4YQWNWc91"
      },
      "execution_count": null,
      "outputs": []
    },
    {
      "cell_type": "code",
      "execution_count": null,
      "metadata": {
        "colab": {
          "base_uri": "https://localhost:8080/"
        },
        "id": "p8XsthIaPdSb",
        "outputId": "b4b6941d-a911-475a-c301-63a097fd28e5"
      },
      "outputs": [
        {
          "output_type": "stream",
          "name": "stdout",
          "text": [
            "Mounted at /content/gdrive\n"
          ]
        }
      ],
      "source": [
        "#mounting google drive\n",
        "from google.colab import drive\n",
        "drive.mount('/content/gdrive')"
      ]
    },
    {
      "cell_type": "code",
      "source": [
        "%cd gdrive/My Drive/DIP_final_project_dataset"
      ],
      "metadata": {
        "colab": {
          "base_uri": "https://localhost:8080/"
        },
        "id": "W61Fnt1tPkBn",
        "outputId": "7fb92ea5-eb4e-4056-a0e1-650b302a3c8e"
      },
      "execution_count": null,
      "outputs": [
        {
          "output_type": "stream",
          "name": "stdout",
          "text": [
            "/content/gdrive/My Drive/DIP_final_project_dataset\n"
          ]
        }
      ]
    },
    {
      "cell_type": "code",
      "source": [
        "#cloning used dataset by the papers's authors\n",
        "! git clone https://github.com/yiweichen04/retina_dataset.git"
      ],
      "metadata": {
        "colab": {
          "base_uri": "https://localhost:8080/"
        },
        "id": "m_v0otRIQMFV",
        "outputId": "5b87ebe6-802f-4a57-c9a2-eb8207c960ce"
      },
      "execution_count": null,
      "outputs": [
        {
          "output_type": "stream",
          "name": "stdout",
          "text": [
            "Cloning into 'retina_dataset'...\n",
            "remote: Enumerating objects: 617, done.\u001b[K\n",
            "remote: Total 617 (delta 0), reused 0 (delta 0), pack-reused 617\u001b[K\n",
            "Receiving objects: 100% (617/617), 1.67 GiB | 16.43 MiB/s, done.\n",
            "Resolving deltas: 100% (1/1), done.\n",
            "Checking out files: 100% (602/602), done.\n"
          ]
        }
      ]
    },
    {
      "cell_type": "code",
      "source": [
        "#directory of different sub-datasets\n",
        "normal_dataset_dir = '/content/gdrive/MyDrive/DIP_final_project_dataset/retina_dataset/dataset/1_normal'\n",
        "cataract_dataset_dir = '/content/gdrive/MyDrive/DIP_final_project_dataset/retina_dataset/dataset/2_cataract'\n",
        "glaucoma_dataset_dir = '/content/gdrive/MyDrive/DIP_final_project_dataset/retina_dataset/dataset/2_glaucoma'\n",
        "retina_disease_dataset_dir = '/content/gdrive/MyDrive/DIP_final_project_dataset/retina_dataset/dataset/3_retina_disease'"
      ],
      "metadata": {
        "id": "FTBGG8kpQMPU"
      },
      "execution_count": null,
      "outputs": []
    },
    {
      "cell_type": "code",
      "source": [
        "#extract path to images of every sub-datasets\n",
        "import os\n",
        "normal_img_paths = sorted(\n",
        "    [\n",
        "        os.path.join(normal_dataset_dir, fname)\n",
        "        for fname in os.listdir(normal_dataset_dir)\n",
        "        if fname.endswith(\".png\") and not fname.startswith(\".\")\n",
        "    ]\n",
        ")\n",
        "\n",
        "cataract_img_paths = sorted(\n",
        "    [\n",
        "        os.path.join(cataract_dataset_dir, fname)\n",
        "        for fname in os.listdir(cataract_dataset_dir)\n",
        "        if fname.endswith(\".png\") and not fname.startswith(\".\")\n",
        "    ]\n",
        ")\n",
        "\n",
        "glaucoma_img_paths = sorted(\n",
        "    [\n",
        "        os.path.join(glaucoma_dataset_dir, fname)\n",
        "        for fname in os.listdir(glaucoma_dataset_dir)\n",
        "        if fname.endswith(\".png\") and not fname.startswith(\".\")\n",
        "    ]\n",
        ")\n",
        "\n",
        "retina_disease_img_paths = sorted(\n",
        "    [\n",
        "        os.path.join(retina_disease_dataset_dir, fname)\n",
        "        for fname in os.listdir(retina_disease_dataset_dir)\n",
        "        if fname.endswith(\".png\") and not fname.startswith(\".\")\n",
        "    ]\n",
        ")"
      ],
      "metadata": {
        "id": "5Lrlvbg4Txmd"
      },
      "execution_count": null,
      "outputs": []
    },
    {
      "cell_type": "code",
      "source": [
        "IMG_HEIGHT = 224\n",
        "IMG_WIDTH = 224\n",
        "IMG_CHANNELS = 3"
      ],
      "metadata": {
        "id": "LMWV7_E_UXP8"
      },
      "execution_count": null,
      "outputs": []
    },
    {
      "cell_type": "code",
      "source": [
        "normal_dataset = np.zeros((len(normal_img_paths), IMG_HEIGHT, IMG_WIDTH, IMG_CHANNELS), dtype=np.uint8)\n",
        "cataract_dataset = np.zeros((len(cataract_img_paths), IMG_HEIGHT, IMG_WIDTH, IMG_CHANNELS), dtype=np.uint8)\n",
        "glaucoma_dataset = np.zeros((len(glaucoma_img_paths), IMG_HEIGHT, IMG_WIDTH, IMG_CHANNELS), dtype=np.uint8)\n",
        "retina_disease_dataset = np.zeros((len(retina_disease_img_paths), IMG_HEIGHT, IMG_WIDTH, IMG_CHANNELS), dtype=np.uint8)"
      ],
      "metadata": {
        "id": "T5JeMX6ZUdNC"
      },
      "execution_count": null,
      "outputs": []
    },
    {
      "cell_type": "code",
      "source": [
        "for i, image_id in enumerate(normal_img_paths):    \n",
        "    path_image =  image_id\n",
        "    image = imread(path_image)\n",
        "    image = resize(image, (IMG_HEIGHT, IMG_WIDTH), mode='constant', preserve_range=True)\n",
        "    normal_dataset[i] = image\n",
        "print(normal_dataset.shape)"
      ],
      "metadata": {
        "colab": {
          "base_uri": "https://localhost:8080/"
        },
        "id": "tbDkUX9fUdRv",
        "outputId": "bde81030-8f7b-4fcf-dfe8-cf6f82fa766a"
      },
      "execution_count": null,
      "outputs": [
        {
          "output_type": "stream",
          "name": "stdout",
          "text": [
            "(300, 224, 224, 3)\n"
          ]
        }
      ]
    },
    {
      "cell_type": "code",
      "source": [
        "for i, image_id in enumerate(cataract_img_paths):    \n",
        "    path_image =  image_id\n",
        "    image = imread(path_image)\n",
        "    image = resize(image, (IMG_HEIGHT, IMG_WIDTH), mode='constant', preserve_range=True)\n",
        "    cataract_dataset[i] = image\n",
        "print(cataract_dataset.shape)"
      ],
      "metadata": {
        "colab": {
          "base_uri": "https://localhost:8080/"
        },
        "id": "Ga8t7c1fUdU-",
        "outputId": "d69164bf-a9f2-47cd-9495-250c7e7c00b1"
      },
      "execution_count": null,
      "outputs": [
        {
          "output_type": "stream",
          "name": "stdout",
          "text": [
            "(100, 224, 224, 3)\n"
          ]
        }
      ]
    },
    {
      "cell_type": "code",
      "source": [
        "for i, image_id in enumerate(glaucoma_img_paths):\n",
        "    path_image =  image_id\n",
        "    image = imread(path_image)\n",
        "    image = resize(image, (IMG_HEIGHT, IMG_WIDTH), mode='constant', preserve_range=True)\n",
        "    glaucoma_dataset[i] = image\n",
        "print(glaucoma_dataset.shape)"
      ],
      "metadata": {
        "colab": {
          "base_uri": "https://localhost:8080/"
        },
        "id": "aNQ0JARgXFlL",
        "outputId": "a887ec20-85da-4925-d8ca-79e5635be62a"
      },
      "execution_count": null,
      "outputs": [
        {
          "output_type": "stream",
          "name": "stdout",
          "text": [
            "(101, 224, 224, 3)\n"
          ]
        }
      ]
    },
    {
      "cell_type": "code",
      "source": [
        "for i, image_id in enumerate(retina_disease_img_paths):\n",
        "    path_image =  image_id\n",
        "    image = imread(path_image)\n",
        "    image = resize(image, (IMG_HEIGHT, IMG_WIDTH), mode='constant', preserve_range=True)\n",
        "    retina_disease_dataset[i] = image\n",
        "print(retina_disease_dataset.shape)"
      ],
      "metadata": {
        "colab": {
          "base_uri": "https://localhost:8080/"
        },
        "id": "V9sdLvH7XFru",
        "outputId": "355f5a9c-95b5-4f49-b908-9eed7fe72bdc"
      },
      "execution_count": null,
      "outputs": [
        {
          "output_type": "stream",
          "name": "stdout",
          "text": [
            "(100, 224, 224, 3)\n"
          ]
        }
      ]
    },
    {
      "cell_type": "code",
      "source": [
        "def CLAHE(img):\n",
        "    lab = cv2.cvtColor(img, cv2.COLOR_RGB2LAB)\n",
        "    lab_planes = cv2.split(lab)\n",
        "    clahe = cv2.createCLAHE(clipLimit=2.0,tileGridSize=(100, 100))\n",
        "    lab_planes[0] = clahe.apply(lab_planes[0])\n",
        "    lab = cv2.merge(lab_planes)\n",
        "    img = cv2.cvtColor(lab, cv2.COLOR_LAB2RGB)\n",
        "    return img"
      ],
      "metadata": {
        "id": "V7gB0s96igyV"
      },
      "execution_count": null,
      "outputs": []
    },
    {
      "cell_type": "code",
      "source": [
        "#applying clahe to all images\n",
        "for i, img in enumerate(normal_dataset):\n",
        "    normal_dataset[i] = CLAHE(normal_dataset[i])\n",
        "\n",
        "for i, img in enumerate(cataract_dataset):\n",
        "    cataract_dataset[i] = CLAHE(cataract_dataset[i])\n",
        "\n",
        "for i, img in enumerate(glaucoma_dataset):\n",
        "    glaucoma_dataset[i] = CLAHE(glaucoma_dataset[i])\n",
        "\n",
        "for i, img in enumerate(retina_disease_dataset):\n",
        "    retina_disease_dataset[i] = CLAHE(retina_disease_dataset[i])"
      ],
      "metadata": {
        "id": "5hcZBrehjTNo"
      },
      "execution_count": null,
      "outputs": []
    },
    {
      "cell_type": "code",
      "source": [
        "#extracting green channels of the images\n",
        "preprocessed_normal_dataset = np.zeros((len(normal_img_paths), IMG_HEIGHT, IMG_WIDTH), dtype=np.uint8)\n",
        "preprocessed_cataract_dataset = np.zeros((len(cataract_img_paths), IMG_HEIGHT, IMG_WIDTH), dtype=np.uint8)\n",
        "preprocessed_glaucoma_dataset = np.zeros((len(glaucoma_img_paths), IMG_HEIGHT, IMG_WIDTH), dtype=np.uint8)\n",
        "preprocessed_retina_disease_dataset = np.zeros((len(retina_disease_img_paths), IMG_HEIGHT, IMG_WIDTH), dtype=np.uint8)\n",
        "\n",
        "for i, img in enumerate(normal_dataset):\n",
        "    preprocessed_normal_dataset[i] = img[:, :, 1]\n",
        "\n",
        "for i, img in enumerate(cataract_dataset):\n",
        "    preprocessed_cataract_dataset[i] = img[:, :, 1]\n",
        "\n",
        "for i, img in enumerate(glaucoma_dataset):\n",
        "    preprocessed_glaucoma_dataset[i] = img[:, :, 1]\n",
        "\n",
        "for i, img in enumerate(retina_disease_dataset):\n",
        "    preprocessed_retina_disease_dataset[i] = img[:, :, 1]"
      ],
      "metadata": {
        "id": "YGuOA_yLXFv9"
      },
      "execution_count": null,
      "outputs": []
    },
    {
      "cell_type": "code",
      "source": [
        "#creating label arrays for each dataset\n",
        "y_normal = np.full(len(normal_img_paths), 0)\n",
        "y_cataract = np.full(len(cataract_img_paths), 1)\n",
        "y_glaucoma = np.full(len(glaucoma_img_paths), 1)\n",
        "y_retina_disease = np.full(len(retina_disease_img_paths), 1)"
      ],
      "metadata": {
        "id": "8Tq04lGIXF3V"
      },
      "execution_count": null,
      "outputs": []
    },
    {
      "cell_type": "code",
      "source": [
        "#concatanating normal dataset with each of the three desease\n",
        "normal_and_cataract_data = np.concatenate((normal_dataset, cataract_dataset), axis=0)\n",
        "normal_and_cataract_label = np.concatenate((y_normal, y_cataract), axis=0)\n",
        "normal_and_cataract_data, normal_and_cataract_label = shuffle(normal_and_cataract_data, normal_and_cataract_label)\n",
        "\n",
        "normal_and_glaucoma_data = np.concatenate((normal_dataset, glaucoma_dataset), axis=0)\n",
        "normal_and_glaucoma_label = np.concatenate((y_normal, y_glaucoma), axis=0)\n",
        "normal_and_glaucoma_data, normal_and_glaucoma_label = shuffle(normal_and_glaucoma_data, normal_and_glaucoma_label)\n",
        "\n",
        "normal_and_retina_disease_data = np.concatenate((normal_dataset, retina_disease_dataset), axis=0)\n",
        "normal_and_retina_disease_label = np.concatenate((y_normal, y_retina_disease), axis=0)\n",
        "normal_and_retina_disease_data, normal_and_retina_disease_label = shuffle(normal_and_retina_disease_data, normal_and_retina_disease_label)"
      ],
      "metadata": {
        "id": "pTdsCK0ijud-"
      },
      "execution_count": null,
      "outputs": []
    },
    {
      "cell_type": "code",
      "source": [
        "import os\n",
        "\n",
        "import cv2\n",
        "import imutils as imutils\n",
        "import numpy as np # linear algebra\n",
        "import pandas as pd # data processing, CSV file I/O (e.g. pd.read_csv)\n",
        "import tensorflow as tf # machine learning\n",
        "from tqdm import tqdm # make your loops show a smart progress meter \n",
        "import matplotlib.pyplot as plt\n",
        "import matplotlib.image as mpimg\n",
        "from sklearn.metrics import accuracy_score, confusion_matrix\n",
        "import seaborn as sn\n",
        "\n",
        "RANDOM_SEED = 1\n",
        "IMG_SIZE = (224, 224) # size of vgg16 input"
      ],
      "metadata": {
        "id": "f-HRTVQSnqyO"
      },
      "execution_count": null,
      "outputs": []
    },
    {
      "cell_type": "code",
      "source": [
        "vgg_model = tf.keras.applications.VGG16(\n",
        "    include_top=False,\n",
        "    weights=\"imagenet\",\n",
        "    input_tensor=None,\n",
        "    input_shape=(224, 224, 3),\n",
        "    pooling=None,\n",
        "    classes=1000,\n",
        "    classifier_activation=\"softmax\",\n",
        ")"
      ],
      "metadata": {
        "colab": {
          "base_uri": "https://localhost:8080/"
        },
        "id": "DmjBxOMrjukh",
        "outputId": "8dbc1c96-4d82-49a4-e95d-3ea20a4e5e60"
      },
      "execution_count": null,
      "outputs": [
        {
          "output_type": "stream",
          "name": "stdout",
          "text": [
            "Downloading data from https://storage.googleapis.com/tensorflow/keras-applications/vgg16/vgg16_weights_tf_dim_ordering_tf_kernels_notop.h5\n",
            "58892288/58889256 [==============================] - 1s 0us/step\n",
            "58900480/58889256 [==============================] - 1s 0us/step\n"
          ]
        }
      ]
    },
    {
      "cell_type": "code",
      "source": [
        "model = tf.keras.models.Sequential()\n",
        "model.add(vgg_model)\n",
        "model.add(tf.keras.layers.Flatten())\n",
        "model.add(tf.keras.layers.Dropout(0.5))\n",
        "model.add(tf.keras.layers.Dense(1, activation='sigmoid'))\n",
        "\n",
        "model.layers[0].trainable = False\n",
        "\n",
        "model.compile(\n",
        "    loss='binary_crossentropy',\n",
        "    optimizer=tf.keras.optimizers.Adam(),\n",
        "    metrics=['accuracy']\n",
        ")\n",
        "\n",
        "model.summary()"
      ],
      "metadata": {
        "colab": {
          "base_uri": "https://localhost:8080/"
        },
        "id": "V_1h-BYTjumw",
        "outputId": "b36cf050-bbc7-4477-8992-6dc10c7738a3"
      },
      "execution_count": null,
      "outputs": [
        {
          "output_type": "stream",
          "name": "stdout",
          "text": [
            "Model: \"sequential\"\n",
            "_________________________________________________________________\n",
            " Layer (type)                Output Shape              Param #   \n",
            "=================================================================\n",
            " vgg16 (Functional)          (None, 7, 7, 512)         14714688  \n",
            "                                                                 \n",
            " flatten (Flatten)           (None, 25088)             0         \n",
            "                                                                 \n",
            " dropout (Dropout)           (None, 25088)             0         \n",
            "                                                                 \n",
            " dense (Dense)               (None, 1)                 25089     \n",
            "                                                                 \n",
            "=================================================================\n",
            "Total params: 14,739,777\n",
            "Trainable params: 25,089\n",
            "Non-trainable params: 14,714,688\n",
            "_________________________________________________________________\n"
          ]
        }
      ]
    },
    {
      "cell_type": "code",
      "source": [
        "from sklearn.model_selection import train_test_split\n",
        "normal_and_cataract_label = np.expand_dims(normal_and_cataract_label, axis=-1)\n",
        "X_train, X_test, y_train, y_test = train_test_split(normal_and_cataract_data, normal_and_cataract_label, test_size=0.2, random_state= 8) "
      ],
      "metadata": {
        "id": "wp3qhFlJLaRd"
      },
      "execution_count": null,
      "outputs": []
    },
    {
      "cell_type": "code",
      "source": [
        "EPOCHS = 25\n",
        "early_stopping = tf.keras.callbacks.EarlyStopping(\n",
        "    monitor='val_accuracy',\n",
        "    mode='max',\n",
        "    patience=5\n",
        ")\n",
        "\n",
        "history = model.fit(X_train, y_train, validation_split=0.1, batch_size=16, epochs=EPOCHS, callbacks=[early_stopping])\n",
        " \n",
        "print(\"Training Done\")\n",
        "model.save(\"model.h5\")"
      ],
      "metadata": {
        "colab": {
          "base_uri": "https://localhost:8080/"
        },
        "id": "9HJLbPpvXF7V",
        "outputId": "a50f1182-7d59-4dd3-ebfe-e33951589529"
      },
      "execution_count": null,
      "outputs": [
        {
          "output_type": "stream",
          "name": "stdout",
          "text": [
            "Epoch 1/25\n",
            "18/18 [==============================] - 14s 96ms/step - loss: 3.7912 - accuracy: 0.7569 - val_loss: 0.5089 - val_accuracy: 0.8750\n",
            "Epoch 2/25\n",
            "18/18 [==============================] - 1s 83ms/step - loss: 2.1198 - accuracy: 0.8056 - val_loss: 0.4428 - val_accuracy: 0.9375\n",
            "Epoch 3/25\n",
            "18/18 [==============================] - 1s 82ms/step - loss: 1.3409 - accuracy: 0.8819 - val_loss: 0.6494 - val_accuracy: 0.9062\n",
            "Epoch 4/25\n",
            "18/18 [==============================] - 1s 83ms/step - loss: 1.4803 - accuracy: 0.8715 - val_loss: 0.2030 - val_accuracy: 0.9375\n",
            "Epoch 5/25\n",
            "18/18 [==============================] - 2s 85ms/step - loss: 0.4334 - accuracy: 0.9375 - val_loss: 0.7107 - val_accuracy: 0.9375\n",
            "Epoch 6/25\n",
            "18/18 [==============================] - 1s 84ms/step - loss: 0.6593 - accuracy: 0.9410 - val_loss: 0.5724 - val_accuracy: 0.9375\n",
            "Epoch 7/25\n",
            "18/18 [==============================] - 2s 85ms/step - loss: 0.3528 - accuracy: 0.9444 - val_loss: 0.5293 - val_accuracy: 0.9375\n",
            "Training Done\n"
          ]
        }
      ]
    },
    {
      "cell_type": "code",
      "source": [
        "predictions = model.predict(X_test)\n",
        "predictions = [0 if x < 0.5 else 1 for x in predictions]\n",
        "\n",
        "accuracy = accuracy_score(y_test, predictions)\n",
        "print(\"Test Accuracy(Normal/Cataract) without augmentation:\", accuracy)"
      ],
      "metadata": {
        "colab": {
          "base_uri": "https://localhost:8080/"
        },
        "id": "0Ke_TufyL3wr",
        "outputId": "4122e0d1-2448-4af2-c152-f0a4b024ff16"
      },
      "execution_count": null,
      "outputs": [
        {
          "output_type": "stream",
          "name": "stdout",
          "text": [
            "Test Accuracy(Normal/Cataract) without augmentation: 0.9125\n"
          ]
        }
      ]
    },
    {
      "cell_type": "code",
      "source": [
        "datagen = tf.keras.preprocessing.image.ImageDataGenerator(\n",
        "    rotation_range=15,\n",
        "    width_shift_range=0.1,\n",
        "    height_shift_range=0.1,\n",
        "    shear_range=0.1,\n",
        "    brightness_range=[0.5, 1.25],\n",
        "    horizontal_flip=True,\n",
        "    vertical_flip=True,\n",
        "    validation_split = 0.1,\n",
        "    preprocessing_function=tf.keras.applications.vgg16.preprocess_input\n",
        ")\n",
        "\n",
        "datagen.fit(normal_and_cataract_data)\n",
        "history = model.fit(datagen.flow(X_train, y_train, batch_size=32, subset='training'),\n",
        "                                 validation_data=datagen.flow(X_train, y_train, batch_size=8, subset='validation'),\n",
        "                                                              epochs=EPOCHS, callbacks=[early_stopping])"
      ],
      "metadata": {
        "colab": {
          "base_uri": "https://localhost:8080/"
        },
        "id": "tybqyKCsEUAM",
        "outputId": "c27b9772-d456-4182-c3c2-107863795037"
      },
      "execution_count": null,
      "outputs": [
        {
          "output_type": "stream",
          "name": "stdout",
          "text": [
            "Epoch 1/25\n",
            "9/9 [==============================] - 6s 644ms/step - loss: 1.6115 - accuracy: 0.8299 - val_loss: 0.9343 - val_accuracy: 0.8438\n",
            "Epoch 2/25\n",
            "9/9 [==============================] - 5s 514ms/step - loss: 1.8990 - accuracy: 0.8264 - val_loss: 1.6199 - val_accuracy: 0.8438\n",
            "Epoch 3/25\n",
            "9/9 [==============================] - 5s 518ms/step - loss: 1.6316 - accuracy: 0.8542 - val_loss: 1.0728 - val_accuracy: 0.8125\n",
            "Epoch 4/25\n",
            "9/9 [==============================] - 5s 520ms/step - loss: 1.1733 - accuracy: 0.8472 - val_loss: 1.6450 - val_accuracy: 0.7812\n",
            "Epoch 5/25\n",
            "9/9 [==============================] - 5s 512ms/step - loss: 1.6466 - accuracy: 0.8333 - val_loss: 3.9295 - val_accuracy: 0.7500\n",
            "Epoch 6/25\n",
            "9/9 [==============================] - 5s 519ms/step - loss: 1.5061 - accuracy: 0.8542 - val_loss: 1.4945 - val_accuracy: 0.7812\n"
          ]
        }
      ]
    },
    {
      "cell_type": "code",
      "source": [
        "predictions = model.predict(X_test)\n",
        "predictions = [0 if x < 0.5 else 1 for x in predictions]\n",
        "\n",
        "accuracy = accuracy_score(y_test, predictions)\n",
        "print(\"Test Accuracy(Normal/Cataract) with augmentation\", accuracy)"
      ],
      "metadata": {
        "colab": {
          "base_uri": "https://localhost:8080/"
        },
        "id": "tgBiyRQfEUDa",
        "outputId": "d474f219-3eb4-40f4-a25a-e39f34688584"
      },
      "execution_count": null,
      "outputs": [
        {
          "output_type": "stream",
          "name": "stdout",
          "text": [
            "Test Accuracy(Normal/Cataract) with augmentation 0.7125\n"
          ]
        }
      ]
    },
    {
      "cell_type": "code",
      "source": [
        "normal_and_glaucoma_label = np.expand_dims(normal_and_glaucoma_label, axis=-1)\n",
        "X_train, X_test, y_train, y_test = train_test_split(normal_and_glaucoma_data, normal_and_glaucoma_label, test_size=0.2, random_state= 8) "
      ],
      "metadata": {
        "id": "6Mg9bE8E_yeN"
      },
      "execution_count": null,
      "outputs": []
    },
    {
      "cell_type": "code",
      "source": [
        "EPOCHS = 25\n",
        "early_stopping = tf.keras.callbacks.EarlyStopping(\n",
        "    monitor='val_accuracy',\n",
        "    mode='max',\n",
        "    patience=5\n",
        ")\n",
        "\n",
        "history = model.fit(X_train, y_train, validation_split=0.1, batch_size=16, epochs=EPOCHS, callbacks=[early_stopping])\n",
        " \n",
        "print(\"Training Done\")"
      ],
      "metadata": {
        "colab": {
          "base_uri": "https://localhost:8080/"
        },
        "id": "mpJNBRwJNzHQ",
        "outputId": "4f002c9f-3037-4704-da51-f01122aab94b"
      },
      "execution_count": null,
      "outputs": [
        {
          "output_type": "stream",
          "name": "stdout",
          "text": [
            "Epoch 1/25\n",
            "18/18 [==============================] - 2s 87ms/step - loss: 4.8454 - accuracy: 0.6736 - val_loss: 8.3860 - val_accuracy: 0.3750\n",
            "Epoch 2/25\n",
            "18/18 [==============================] - 2s 86ms/step - loss: 3.6348 - accuracy: 0.7917 - val_loss: 2.5351 - val_accuracy: 0.8438\n",
            "Epoch 3/25\n",
            "18/18 [==============================] - 2s 86ms/step - loss: 2.1684 - accuracy: 0.8090 - val_loss: 1.2931 - val_accuracy: 0.8750\n",
            "Epoch 4/25\n",
            "18/18 [==============================] - 2s 86ms/step - loss: 1.2613 - accuracy: 0.9097 - val_loss: 2.7148 - val_accuracy: 0.8750\n",
            "Epoch 5/25\n",
            "18/18 [==============================] - 2s 86ms/step - loss: 1.0745 - accuracy: 0.8785 - val_loss: 1.3656 - val_accuracy: 0.8750\n",
            "Epoch 6/25\n",
            "18/18 [==============================] - 2s 88ms/step - loss: 1.2923 - accuracy: 0.8715 - val_loss: 1.6614 - val_accuracy: 0.8750\n",
            "Epoch 7/25\n",
            "18/18 [==============================] - 2s 86ms/step - loss: 0.9177 - accuracy: 0.9097 - val_loss: 2.5430 - val_accuracy: 0.8750\n",
            "Epoch 8/25\n",
            "18/18 [==============================] - 2s 87ms/step - loss: 0.4889 - accuracy: 0.9167 - val_loss: 1.4734 - val_accuracy: 0.8438\n",
            "Training Done\n"
          ]
        }
      ]
    },
    {
      "cell_type": "code",
      "source": [
        "predictions = model.predict(X_test)\n",
        "predictions = [0 if x < 0.5 else 1 for x in predictions]\n",
        "\n",
        "accuracy = accuracy_score(y_test, predictions)\n",
        "print(\"Test Accuracy(Normal/Glaucoma) without augmentation:\", accuracy)"
      ],
      "metadata": {
        "colab": {
          "base_uri": "https://localhost:8080/"
        },
        "id": "SR2ZUN5KNzLV",
        "outputId": "6ffdad99-da84-4825-862e-eb73090e2676"
      },
      "execution_count": null,
      "outputs": [
        {
          "output_type": "stream",
          "name": "stdout",
          "text": [
            "Test Accuracy(Normal/Glaucoma) without augmentation: 0.7777777777777778\n"
          ]
        }
      ]
    },
    {
      "cell_type": "code",
      "source": [
        "datagen = tf.keras.preprocessing.image.ImageDataGenerator(\n",
        "    rotation_range=15,\n",
        "    width_shift_range=0.1,\n",
        "    height_shift_range=0.1,\n",
        "    shear_range=0.1,\n",
        "    brightness_range=[0.5, 1.25],\n",
        "    horizontal_flip=True,\n",
        "    vertical_flip=True,\n",
        "    validation_split = 0.1,\n",
        "    preprocessing_function=tf.keras.applications.vgg16.preprocess_input\n",
        ")\n",
        "\n",
        "datagen.fit(normal_and_cataract_data)\n",
        "history = model.fit(datagen.flow(X_train, y_train, batch_size=32, subset='training'),\n",
        "                                 validation_data=datagen.flow(X_train, y_train, batch_size=8, subset='validation'),\n",
        "                                                              epochs=EPOCHS, callbacks=[early_stopping])"
      ],
      "metadata": {
        "colab": {
          "base_uri": "https://localhost:8080/"
        },
        "id": "xbP4HxUdNzT5",
        "outputId": "e5fef225-dca3-433c-cb67-f6d6d1853190"
      },
      "execution_count": null,
      "outputs": [
        {
          "output_type": "stream",
          "name": "stdout",
          "text": [
            "Epoch 1/25\n",
            "9/9 [==============================] - 5s 526ms/step - loss: 3.0195 - accuracy: 0.7431 - val_loss: 0.3442 - val_accuracy: 0.8750\n",
            "Epoch 2/25\n",
            "9/9 [==============================] - 5s 508ms/step - loss: 3.5541 - accuracy: 0.7083 - val_loss: 1.2761 - val_accuracy: 0.8750\n",
            "Epoch 3/25\n",
            "9/9 [==============================] - 5s 519ms/step - loss: 4.2194 - accuracy: 0.6944 - val_loss: 2.1631 - val_accuracy: 0.8750\n",
            "Epoch 4/25\n",
            "9/9 [==============================] - 5s 513ms/step - loss: 3.2770 - accuracy: 0.7257 - val_loss: 2.0781 - val_accuracy: 0.7500\n",
            "Epoch 5/25\n",
            "9/9 [==============================] - 5s 514ms/step - loss: 2.6821 - accuracy: 0.7917 - val_loss: 1.4672 - val_accuracy: 0.8125\n",
            "Epoch 6/25\n",
            "9/9 [==============================] - 5s 512ms/step - loss: 2.3235 - accuracy: 0.7743 - val_loss: 3.3648 - val_accuracy: 0.7188\n"
          ]
        }
      ]
    },
    {
      "cell_type": "code",
      "source": [
        "predictions = model.predict(X_test)\n",
        "predictions = [0 if x < 0.5 else 1 for x in predictions]\n",
        "\n",
        "accuracy = accuracy_score(y_test, predictions)\n",
        "print(\"Test Accuracy(Normal/Glaucoma) with augmentation\", accuracy)"
      ],
      "metadata": {
        "colab": {
          "base_uri": "https://localhost:8080/"
        },
        "id": "Xif5HE0INzWw",
        "outputId": "01787a23-0179-4481-cac0-a0370f513d65"
      },
      "execution_count": null,
      "outputs": [
        {
          "output_type": "stream",
          "name": "stdout",
          "text": [
            "Test Accuracy(Normal/Glaucoma) with augmentation 0.7654320987654321\n"
          ]
        }
      ]
    },
    {
      "cell_type": "code",
      "source": [
        "normal_and_retina_disease_label = np.expand_dims(normal_and_retina_disease_label, axis=-1)\n",
        "X_train, X_test, y_train, y_test = train_test_split(normal_and_retina_disease_data, normal_and_retina_disease_label, test_size=0.2, random_state= 8)"
      ],
      "metadata": {
        "id": "JjW1YZxGNzaq"
      },
      "execution_count": null,
      "outputs": []
    },
    {
      "cell_type": "code",
      "source": [
        "EPOCHS = 25\n",
        "early_stopping = tf.keras.callbacks.EarlyStopping(\n",
        "    monitor='val_accuracy',\n",
        "    mode='max',\n",
        "    patience=5\n",
        ")\n",
        "\n",
        "history = model.fit(X_train, y_train, validation_split=0.1, batch_size=16, epochs=EPOCHS, callbacks=[early_stopping])\n",
        " \n",
        "print(\"Training Done\")"
      ],
      "metadata": {
        "colab": {
          "base_uri": "https://localhost:8080/"
        },
        "id": "_AHDzXqrPKde",
        "outputId": "9ad4ae91-5f9e-4822-e03e-6eff32cc4d38"
      },
      "execution_count": null,
      "outputs": [
        {
          "output_type": "stream",
          "name": "stdout",
          "text": [
            "Epoch 1/25\n",
            "18/18 [==============================] - 2s 93ms/step - loss: 3.8124 - accuracy: 0.7604 - val_loss: 2.8212 - val_accuracy: 0.8438\n",
            "Epoch 2/25\n",
            "18/18 [==============================] - 2s 100ms/step - loss: 2.8318 - accuracy: 0.7812 - val_loss: 2.4403 - val_accuracy: 0.7500\n",
            "Epoch 3/25\n",
            "18/18 [==============================] - 2s 91ms/step - loss: 2.4537 - accuracy: 0.7986 - val_loss: 6.9333 - val_accuracy: 0.7500\n",
            "Epoch 4/25\n",
            "18/18 [==============================] - 2s 91ms/step - loss: 3.2664 - accuracy: 0.7917 - val_loss: 4.3218 - val_accuracy: 0.6875\n",
            "Epoch 5/25\n",
            "18/18 [==============================] - 2s 91ms/step - loss: 1.7070 - accuracy: 0.8576 - val_loss: 4.4069 - val_accuracy: 0.7500\n",
            "Epoch 6/25\n",
            "18/18 [==============================] - 2s 91ms/step - loss: 0.9732 - accuracy: 0.9062 - val_loss: 4.8819 - val_accuracy: 0.7500\n",
            "Training Done\n"
          ]
        }
      ]
    },
    {
      "cell_type": "code",
      "source": [
        "predictions = model.predict(X_test)\n",
        "predictions = [0 if x < 0.5 else 1 for x in predictions]\n",
        "\n",
        "accuracy = accuracy_score(y_test, predictions)\n",
        "print(\"Test Accuracy(Normal/Retina_Disease) without augmentation:\", accuracy)"
      ],
      "metadata": {
        "colab": {
          "base_uri": "https://localhost:8080/"
        },
        "id": "PlJzY3pEPKhC",
        "outputId": "7133ba45-793e-4695-ff17-7a913765d01e"
      },
      "execution_count": null,
      "outputs": [
        {
          "output_type": "stream",
          "name": "stdout",
          "text": [
            "Test Accuracy(Normal/Retina_Disease) without augmentation: 0.7625\n"
          ]
        }
      ]
    },
    {
      "cell_type": "code",
      "source": [
        "datagen = tf.keras.preprocessing.image.ImageDataGenerator(\n",
        "    rotation_range=15,\n",
        "    width_shift_range=0.1,\n",
        "    height_shift_range=0.1,\n",
        "    shear_range=0.1,\n",
        "    brightness_range=[0.5, 1.25],\n",
        "    horizontal_flip=True,\n",
        "    vertical_flip=True,\n",
        "    validation_split = 0.1,\n",
        "    preprocessing_function=tf.keras.applications.vgg16.preprocess_input\n",
        ")\n",
        "\n",
        "datagen.fit(normal_and_cataract_data)\n",
        "history = model.fit(datagen.flow(X_train, y_train, batch_size=32, subset='training'),\n",
        "                                 validation_data=datagen.flow(X_train, y_train, batch_size=8, subset='validation'),\n",
        "                                                              epochs=EPOCHS, callbacks=[early_stopping])"
      ],
      "metadata": {
        "colab": {
          "base_uri": "https://localhost:8080/"
        },
        "id": "GoJXuXu0PKkj",
        "outputId": "edd43393-1e27-4b6e-b5a6-15dcefe8c595"
      },
      "execution_count": null,
      "outputs": [
        {
          "output_type": "stream",
          "name": "stdout",
          "text": [
            "Epoch 1/25\n",
            "9/9 [==============================] - 5s 527ms/step - loss: 4.0784 - accuracy: 0.7118 - val_loss: 3.5925 - val_accuracy: 0.7188\n",
            "Epoch 2/25\n",
            "9/9 [==============================] - 5s 517ms/step - loss: 4.9528 - accuracy: 0.6354 - val_loss: 2.5935 - val_accuracy: 0.8125\n",
            "Epoch 3/25\n",
            "9/9 [==============================] - 5s 519ms/step - loss: 4.3356 - accuracy: 0.7535 - val_loss: 4.2591 - val_accuracy: 0.5938\n",
            "Epoch 4/25\n",
            "9/9 [==============================] - 5s 529ms/step - loss: 5.4553 - accuracy: 0.6389 - val_loss: 1.0450 - val_accuracy: 0.8750\n",
            "Epoch 5/25\n",
            "9/9 [==============================] - 5s 524ms/step - loss: 4.2973 - accuracy: 0.6632 - val_loss: 1.5482 - val_accuracy: 0.8438\n",
            "Epoch 6/25\n",
            "9/9 [==============================] - 5s 515ms/step - loss: 4.1394 - accuracy: 0.7222 - val_loss: 2.2601 - val_accuracy: 0.8438\n",
            "Epoch 7/25\n",
            "9/9 [==============================] - 5s 519ms/step - loss: 3.5655 - accuracy: 0.7396 - val_loss: 1.2032 - val_accuracy: 0.8438\n",
            "Epoch 8/25\n",
            "9/9 [==============================] - 5s 513ms/step - loss: 3.6555 - accuracy: 0.7257 - val_loss: 3.3025 - val_accuracy: 0.7812\n",
            "Epoch 9/25\n",
            "9/9 [==============================] - 5s 517ms/step - loss: 3.5298 - accuracy: 0.7535 - val_loss: 0.9458 - val_accuracy: 0.8125\n"
          ]
        }
      ]
    },
    {
      "cell_type": "code",
      "source": [
        "predictions = model.predict(X_test)\n",
        "predictions = [0 if x < 0.5 else 1 for x in predictions]\n",
        "\n",
        "accuracy = accuracy_score(y_test, predictions)\n",
        "print(\"Test Accuracy(Normal/Retina_Disease) with augmentation\", accuracy)"
      ],
      "metadata": {
        "colab": {
          "base_uri": "https://localhost:8080/"
        },
        "id": "fZls8COgPeiQ",
        "outputId": "e93033a1-1b15-4cb2-d8a2-d661022169aa"
      },
      "execution_count": null,
      "outputs": [
        {
          "output_type": "stream",
          "name": "stdout",
          "text": [
            "Test Accuracy(Normal/Retina_Disease) with augmentation 0.7625\n"
          ]
        }
      ]
    },
    {
      "cell_type": "code",
      "source": [
        "#creating a multi-calss dataset\n",
        "y_normal = np.full(len(normal_img_paths), 0)\n",
        "y_cataract = np.full(len(cataract_img_paths), 1)\n",
        "y_glaucoma = np.full(len(glaucoma_img_paths), 2)\n",
        "y_retina_disease = np.full(len(retina_disease_img_paths), 3)\n",
        "\n",
        "X = np.concatenate((normal_dataset, cataract_dataset, glaucoma_dataset, retina_disease_dataset), axis=0)\n",
        "y = np.concatenate((y_normal, y_cataract, y_glaucoma, y_retina_disease), axis=0)\n",
        "X, y = shuffle(X, y)"
      ],
      "metadata": {
        "id": "vTFdDgyCPrzB"
      },
      "execution_count": null,
      "outputs": []
    },
    {
      "cell_type": "code",
      "source": [
        "y = np.expand_dims(y, axis=-1)\n",
        "X_train, X_test, y_train, y_test = train_test_split(X, y, test_size=0.2, random_state= 8)"
      ],
      "metadata": {
        "id": "QJvIJjzuPsaO"
      },
      "execution_count": null,
      "outputs": []
    },
    {
      "cell_type": "code",
      "source": [
        "from sklearn.preprocessing import OneHotEncoder\n",
        "def prepare_targets(y_train, y_test):\n",
        "\tenc = OneHotEncoder(handle_unknown='ignore', sparse=False)\n",
        "\tenc.fit(y_train.reshape(-1, 1))\n",
        "\tprint(enc.categories_)\n",
        "\ty_train_enc = enc.transform(y_train.reshape(-1, 1))\n",
        "\ty_test_enc = enc.transform(y_test.reshape(-1, 1))\n",
        "\treturn np.array(y_train_enc), np.array(y_test_enc)\n",
        "\n",
        "y_train, y_test = prepare_targets(y_train, y_test)\n",
        "print(y_train.shape)"
      ],
      "metadata": {
        "colab": {
          "base_uri": "https://localhost:8080/"
        },
        "id": "TfBvobhTeyCg",
        "outputId": "eccc1934-e73b-459e-f403-78d7bc8adfa4"
      },
      "execution_count": null,
      "outputs": [
        {
          "output_type": "stream",
          "name": "stdout",
          "text": [
            "[array([0, 1, 2, 3])]\n",
            "(480, 4)\n"
          ]
        }
      ]
    },
    {
      "cell_type": "code",
      "source": [
        "model = tf.keras.models.Sequential()\n",
        "model.add(vgg_model)\n",
        "model.add(tf.keras.layers.Flatten())\n",
        "model.add(tf.keras.layers.Dropout(0.5))\n",
        "model.add(tf.keras.layers.Dense(4, activation='softmax'))\n",
        "\n",
        "model.layers[0].trainable = False\n",
        "\n",
        "model.compile(\n",
        "    loss='categorical_crossentropy',\n",
        "    optimizer=tf.keras.optimizers.Adam(),\n",
        "    metrics=['accuracy']\n",
        ")\n",
        "\n",
        "model.summary()"
      ],
      "metadata": {
        "colab": {
          "base_uri": "https://localhost:8080/"
        },
        "id": "PxKja-_WQhZN",
        "outputId": "6f654f7c-700d-45cf-d872-8c9ca6ff2761"
      },
      "execution_count": null,
      "outputs": [
        {
          "output_type": "stream",
          "name": "stdout",
          "text": [
            "Model: \"sequential_2\"\n",
            "_________________________________________________________________\n",
            " Layer (type)                Output Shape              Param #   \n",
            "=================================================================\n",
            " vgg16 (Functional)          (None, 7, 7, 512)         14714688  \n",
            "                                                                 \n",
            " flatten_2 (Flatten)         (None, 25088)             0         \n",
            "                                                                 \n",
            " dropout_2 (Dropout)         (None, 25088)             0         \n",
            "                                                                 \n",
            " dense_2 (Dense)             (None, 4)                 100356    \n",
            "                                                                 \n",
            "=================================================================\n",
            "Total params: 14,815,044\n",
            "Trainable params: 100,356\n",
            "Non-trainable params: 14,714,688\n",
            "_________________________________________________________________\n"
          ]
        }
      ]
    },
    {
      "cell_type": "code",
      "source": [
        "EPOCHS = 25\n",
        "early_stopping = tf.keras.callbacks.EarlyStopping(\n",
        "    monitor='val_accuracy',\n",
        "    mode='max',\n",
        "    patience=5\n",
        ")\n",
        "\n",
        "history = model.fit(X_train, y_train, validation_split=0.1, batch_size=16, epochs=EPOCHS, callbacks=[early_stopping])\n",
        " \n",
        "print(\"Training Done\")"
      ],
      "metadata": {
        "colab": {
          "base_uri": "https://localhost:8080/"
        },
        "id": "x3KIG0cZPskX",
        "outputId": "42a9b1e9-3144-4f50-e64c-023f2a6be19d"
      },
      "execution_count": null,
      "outputs": [
        {
          "output_type": "stream",
          "name": "stdout",
          "text": [
            "Epoch 1/25\n",
            "27/27 [==============================] - 3s 106ms/step - loss: 12.3039 - accuracy: 0.4329 - val_loss: 8.1571 - val_accuracy: 0.4167\n",
            "Epoch 2/25\n",
            "27/27 [==============================] - 3s 101ms/step - loss: 7.8967 - accuracy: 0.5903 - val_loss: 7.8162 - val_accuracy: 0.6250\n",
            "Epoch 3/25\n",
            "27/27 [==============================] - 3s 101ms/step - loss: 5.5941 - accuracy: 0.6736 - val_loss: 9.5250 - val_accuracy: 0.5000\n",
            "Epoch 4/25\n",
            "27/27 [==============================] - 3s 103ms/step - loss: 4.4728 - accuracy: 0.7130 - val_loss: 7.6908 - val_accuracy: 0.3750\n",
            "Epoch 5/25\n",
            "27/27 [==============================] - 3s 104ms/step - loss: 3.6123 - accuracy: 0.7731 - val_loss: 10.8478 - val_accuracy: 0.5833\n",
            "Epoch 6/25\n",
            "27/27 [==============================] - 3s 106ms/step - loss: 2.7332 - accuracy: 0.8102 - val_loss: 11.6080 - val_accuracy: 0.5625\n",
            "Epoch 7/25\n",
            "27/27 [==============================] - 3s 104ms/step - loss: 3.5070 - accuracy: 0.7801 - val_loss: 8.0299 - val_accuracy: 0.5417\n",
            "Training Done\n"
          ]
        }
      ]
    },
    {
      "cell_type": "code",
      "source": [
        ""
      ],
      "metadata": {
        "id": "m1TAd1OFPsyc"
      },
      "execution_count": null,
      "outputs": []
    }
  ]
}